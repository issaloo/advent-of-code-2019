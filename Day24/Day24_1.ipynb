{
 "cells": [
  {
   "cell_type": "code",
   "execution_count": 658,
   "metadata": {},
   "outputs": [],
   "source": [
    "import numpy as np\n",
    "from collections import defaultdict\n",
    "map_arr = []\n",
    "with open('Day24.txt') as f:\n",
    "    for line in f.readlines():\n",
    "        map_arr.append([1 if (char == '#') else 0 for char in line.strip()])\n",
    "map_arr = np.array(map_arr,dtype=np.int64)\n",
    "map_flat_arr = map_arr.flatten()\n",
    "map_xy = np.argwhere(np.zeros((5,5))==0)\n",
    "xy2flat = {tuple(xy):i for i,xy in enumerate(map_xy)}"
   ]
  },
  {
   "cell_type": "code",
   "execution_count": 659,
   "metadata": {},
   "outputs": [],
   "source": [
    "map_xy_list = map_xy.tolist()\n",
    "direc = np.array([[0,1],[0,-1],[1,0],[-1,0]])\n",
    "map_nbr_all = [(xy + direc).tolist() for xy in map_xy]\n",
    "map_nbr = []\n",
    "for cent in map_nbr_all:\n",
    "    map_nbr.append([tuple(xy) for xy in cent if xy in map_xy_list])\n",
    "map_nbr_dict = defaultdict(list)\n",
    "for xy,nbr in zip(map_xy,map_nbr):\n",
    "    map_nbr_dict[tuple(xy)] = [xy2flat[n]for n in nbr]\n",
    "map_nbr_list = [*map_nbr_dict.values()]"
   ]
  },
  {
   "cell_type": "code",
   "execution_count": 660,
   "metadata": {},
   "outputs": [],
   "source": [
    "start = []\n",
    "while map_flat_arr.tolist() not in start:\n",
    "    start.append(map_flat_arr.tolist())\n",
    "    nbr_sum = np.array([sum(map_flat_arr[n]) for n in map_nbr_list])\n",
    "    map_flat_arr2 = map_flat_arr.copy()\n",
    "    #Empty space if bug and only 1 bug adjacent\n",
    "    map_flat_arr2[((map_flat_arr == 1) & (nbr_sum != 1))] = 0\n",
    "    #Bug if empty space and 1 or 2 bug adjacent\n",
    "    map_flat_arr2[(map_flat_arr == 0) & ((nbr_sum == 1) | (nbr_sum == 2))] = 1\n",
    "    #update all at the same time....\n",
    "    map_flat_arr = map_flat_arr2"
   ]
  },
  {
   "cell_type": "code",
   "execution_count": 661,
   "metadata": {},
   "outputs": [
    {
     "data": {
      "text/plain": [
       "32509983"
      ]
     },
     "execution_count": 661,
     "metadata": {},
     "output_type": "execute_result"
    }
   ],
   "source": [
    "np.sum(2**np.argwhere(map_flat_arr==1))"
   ]
  },
  {
   "cell_type": "code",
   "execution_count": null,
   "metadata": {},
   "outputs": [],
   "source": [
    "#Part 2s"
   ]
  }
 ],
 "metadata": {
  "kernelspec": {
   "display_name": "Python 3",
   "language": "python",
   "name": "python3"
  },
  "language_info": {
   "codemirror_mode": {
    "name": "ipython",
    "version": 3
   },
   "file_extension": ".py",
   "mimetype": "text/x-python",
   "name": "python",
   "nbconvert_exporter": "python",
   "pygments_lexer": "ipython3",
   "version": "3.6.8"
  }
 },
 "nbformat": 4,
 "nbformat_minor": 2
}
