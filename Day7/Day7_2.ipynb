{
 "cells": [
  {
   "cell_type": "code",
   "execution_count": 126,
   "metadata": {},
   "outputs": [],
   "source": [
    "import numpy as np\n",
    "from functools import partial\n",
    "arr = np.genfromtxt('Day7.txt',delimiter = ',',dtype=int)"
   ]
  },
  {
   "cell_type": "code",
   "execution_count": 127,
   "metadata": {},
   "outputs": [],
   "source": [
    "def indexing(listt,index,arr):\n",
    "    inxlist = []\n",
    "    for i, ss in enumerate(listt):\n",
    "        if ss == '0': #position mode\n",
    "            inxlist.append(arr[index+i+1])\n",
    "        else: #ss == '1', immediate mode\n",
    "            inxlist.append(index+i+1)\n",
    "    return inxlist\n",
    "\n",
    "def opcodeAct(arr,index,inxlist,opcode):\n",
    "    out = 'none'\n",
    "    if opcode == 1:\n",
    "        arr[inxlist[2]] = arr[inxlist[0]] + arr[inxlist[1]]\n",
    "        index += 4\n",
    "    elif opcode == 2:\n",
    "        arr[inxlist[2]] = arr[inxlist[0]] * arr[inxlist[1]]\n",
    "        index += 4\n",
    "    elif opcode == 4:\n",
    "        out = arr[inxlist[0]]\n",
    "        index += 2\n",
    "    elif opcode == 5:\n",
    "        if arr[inxlist[0]]: #If non-zero is true\n",
    "            index = arr[inxlist[1]]\n",
    "        else:\n",
    "            index += 3\n",
    "    elif opcode == 6:\n",
    "        if not arr[inxlist[0]]:\n",
    "            index = arr[inxlist[1]]\n",
    "        else:\n",
    "            index += 3\n",
    "    elif opcode == 7:\n",
    "        if arr[inxlist[0]] < arr[inxlist[1]]:\n",
    "            arr[inxlist[2]] = 1\n",
    "        else:\n",
    "            arr[inxlist[2]] = 0\n",
    "        index += 4\n",
    "    elif opcode == 8:\n",
    "        if arr[inxlist[0]] == arr[inxlist[1]]:\n",
    "            arr[inxlist[2]] = 1\n",
    "        else:\n",
    "            arr[inxlist[2]] = 0\n",
    "        index += 4\n",
    "    return out, arr, index\n",
    "\n",
    "def day5(phase,inpt):\n",
    "    global arr\n",
    "    arr1 = arr.copy()\n",
    "    index = 0\n",
    "    if arr1[index] == 3:\n",
    "        arr1[arr1[index+1]] = phase\n",
    "        index += 2\n",
    "    while arr1[index] != 99:\n",
    "        if arr1[index] == 3:\n",
    "            arr1[arr1[index+1]] = inpt\n",
    "            index += 2\n",
    "        elif arr1[index] < 10:\n",
    "            out, arr1, index = opcodeAct(arr1,index,arr1[index+1:index+4],arr1[index])\n",
    "        else: #5 digit opcode\n",
    "            s = str(arr1[index])\n",
    "            s = s.rjust(5,'0')\n",
    "            s = s[::-1]\n",
    "            inxlist = indexing(s[2:],index,arr1)\n",
    "            out, arr1, index = opcodeAct(arr1,index,inxlist,int(s[0]))\n",
    "        if out != 'none':\n",
    "            return out, arr1, index\n",
    "\n",
    "def day5_2(inpt,arr,index):\n",
    "    while arr[index] != 99:\n",
    "        if arr[index] == 3:\n",
    "            arr[arr[index+1]] = inpt\n",
    "            index += 2\n",
    "        if arr[index] < 10:\n",
    "            out, arr, index = opcodeAct(arr,index,arr[index+1:index+4],arr[index])\n",
    "        else: #5 digit opcode\n",
    "            s = str(arr[index])\n",
    "            s = s.rjust(5,'0')\n",
    "            s = s[::-1]\n",
    "            inxlist = indexing(s[2:],index,arr)\n",
    "            out, arr, index = opcodeAct(arr,index,inxlist,int(s[0]))\n",
    "        if out != 'none':\n",
    "            return out, arr, index"
   ]
  },
  {
   "cell_type": "code",
   "execution_count": 128,
   "metadata": {},
   "outputs": [],
   "source": [
    "from itertools import permutations\n",
    "from queue import Queue\n",
    "perm_list = list(permutations([5,6,7,8,9]))"
   ]
  },
  {
   "cell_type": "code",
   "execution_count": 131,
   "metadata": {},
   "outputs": [],
   "source": [
    "def day7(perm):\n",
    "    inpt = 0\n",
    "    qArr,qIndex = Queue(), Queue()\n",
    "    for phaseS in perm:\n",
    "        out, arr, index = day5(phaseS,inpt)\n",
    "        inpt = out\n",
    "        qArr.put(arr)\n",
    "        qIndex.put(index)\n",
    "    check = 'no'\n",
    "    count = 0\n",
    "    while (arr[index] != 99) | (count%5 != 0):\n",
    "        count +=1\n",
    "        arr = qArr.get()\n",
    "        index = qIndex.get()\n",
    "        out, arr, index = day5_2(inpt,arr,index)\n",
    "        inpt = out\n",
    "        qArr.put(arr)\n",
    "        qIndex.put(index)\n",
    "    return out"
   ]
  },
  {
   "cell_type": "code",
   "execution_count": 132,
   "metadata": {},
   "outputs": [
    {
     "name": "stdout",
     "output_type": "stream",
     "text": [
      "(7, 6, 8, 9, 5)\n",
      "15432220\n"
     ]
    }
   ],
   "source": [
    "msig = 0\n",
    "for perm in perm_list:\n",
    "    signal = day7(perm)\n",
    "    if signal > msig:\n",
    "        msig = signal\n",
    "        combo = perm\n",
    "print(combo)\n",
    "print(msig)"
   ]
  }
 ],
 "metadata": {
  "kernelspec": {
   "display_name": "Python 3",
   "language": "python",
   "name": "python3"
  },
  "language_info": {
   "codemirror_mode": {
    "name": "ipython",
    "version": 3
   },
   "file_extension": ".py",
   "mimetype": "text/x-python",
   "name": "python",
   "nbconvert_exporter": "python",
   "pygments_lexer": "ipython3",
   "version": "3.6.8"
  }
 },
 "nbformat": 4,
 "nbformat_minor": 2
}
