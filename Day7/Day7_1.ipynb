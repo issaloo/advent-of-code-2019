{
 "cells": [
  {
   "cell_type": "code",
   "execution_count": 49,
   "metadata": {},
   "outputs": [],
   "source": [
    "import numpy as np\n",
    "from functools import partial\n",
    "arr = np.genfromtxt('Day7.txt',delimiter = ',',dtype=int)"
   ]
  },
  {
   "cell_type": "code",
   "execution_count": 188,
   "metadata": {},
   "outputs": [],
   "source": [
    "def indexing(listt,index,arr):\n",
    "    inxlist = []\n",
    "    for i, ss in enumerate(listt):\n",
    "        if ss == '0': #position mode\n",
    "            inxlist.append(arr[index+i+1])\n",
    "        else: #ss == '1', immediate mode\n",
    "            inxlist.append(index+i+1)\n",
    "    return inxlist\n",
    "\n",
    "def opcodeAct(arr,index,inxlist,opcode):\n",
    "    if opcode == 1:\n",
    "        arr[inxlist[2]] = arr[inxlist[0]] + arr[inxlist[1]]\n",
    "        index += 4\n",
    "    elif opcode == 2:\n",
    "        arr[inxlist[2]] = arr[inxlist[0]] * arr[inxlist[1]]\n",
    "        index += 4\n",
    "    elif opcode == 4:\n",
    "        global out\n",
    "        out = arr[inxlist[0]]\n",
    "        index += 2\n",
    "    elif opcode == 5:\n",
    "        if arr[inxlist[0]]: #If non-zero is true\n",
    "            index = arr[inxlist[1]]\n",
    "        else:\n",
    "            index += 3\n",
    "    elif opcode == 6:\n",
    "        if not arr[inxlist[0]]:\n",
    "            index = arr[inxlist[1]]\n",
    "        else:\n",
    "            index += 3\n",
    "    elif opcode == 7:\n",
    "        if arr[inxlist[0]] < arr[inxlist[1]]:\n",
    "            arr[inxlist[2]] = 1\n",
    "        else:\n",
    "            arr[inxlist[2]] = 0\n",
    "        index += 4\n",
    "    elif opcode == 8:\n",
    "        if arr[inxlist[0]] == arr[inxlist[1]]:\n",
    "            arr[inxlist[2]] = 1\n",
    "        else:\n",
    "            arr[inxlist[2]] = 0\n",
    "        index += 4\n",
    "    return arr, index\n",
    "\n",
    "def day5(phase,inpt):\n",
    "    global arr\n",
    "    arr1 = arr.copy()\n",
    "    index = 0\n",
    "    if arr1[index] == 3:\n",
    "        arr1[arr1[index+1]] = phase\n",
    "        index += 2\n",
    "    while arr1[index] != 99:\n",
    "        if arr1[index] == 3:\n",
    "            arr1[arr1[index+1]] = inpt\n",
    "            index += 2\n",
    "        if arr1[index] < 10:\n",
    "            arr1, index = opcodeAct(arr1,index,arr1[index+1:index+4],arr1[index])\n",
    "        else: #5 digit opcode\n",
    "            s = str(arr1[index])\n",
    "            s = s.rjust(5,'0')\n",
    "            s = s[::-1]\n",
    "            inxlist = indexing(s[2:],index,arr1)\n",
    "            arr1, index = opcodeAct(arr1,index,inxlist,int(s[0]))\n",
    "    return out"
   ]
  },
  {
   "cell_type": "code",
   "execution_count": 431,
   "metadata": {},
   "outputs": [],
   "source": [
    "phaseS = np.array([0,1,2,3,4])\n",
    "inptt = 0\n",
    "signal = 0\n",
    "def day7(inptt,phaseArr):\n",
    "    global signal\n",
    "    if len(phaseArr) > 0 :\n",
    "        for phase in phaseArr:\n",
    "            inptt2 = day5(phase,inptt)\n",
    "            day7(inptt2,phaseArr[phaseArr != phase])\n",
    "    else:\n",
    "        if inptt > signal:\n",
    "            signal = inptt\n",
    "    return None"
   ]
  },
  {
   "cell_type": "code",
   "execution_count": 432,
   "metadata": {},
   "outputs": [
    {
     "data": {
      "text/plain": [
       "929800"
      ]
     },
     "execution_count": 432,
     "metadata": {},
     "output_type": "execute_result"
    }
   ],
   "source": [
    "day7(0,phaseS)\n",
    "signal"
   ]
  },
  {
   "cell_type": "code",
   "execution_count": null,
   "metadata": {},
   "outputs": [],
   "source": []
  }
 ],
 "metadata": {
  "kernelspec": {
   "display_name": "Python 3",
   "language": "python",
   "name": "python3"
  },
  "language_info": {
   "codemirror_mode": {
    "name": "ipython",
    "version": 3
   },
   "file_extension": ".py",
   "mimetype": "text/x-python",
   "name": "python",
   "nbconvert_exporter": "python",
   "pygments_lexer": "ipython3",
   "version": "3.6.8"
  }
 },
 "nbformat": 4,
 "nbformat_minor": 2
}
