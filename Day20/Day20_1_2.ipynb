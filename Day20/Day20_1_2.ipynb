{
 "cells": [
  {
   "cell_type": "code",
   "execution_count": 42,
   "metadata": {},
   "outputs": [],
   "source": [
    "import numpy as np\n",
    "from collections import defaultdict\n",
    "import queue\n",
    "mapp = []\n",
    "with open('Day20.txt') as f:\n",
    "    for line in f.readlines():\n",
    "        line = [ord(l) for l in line if l != '\\n']\n",
    "        mapp.append(line)\n",
    "for i in range(len(mapp[0]) - len(mapp[-1])):\n",
    "    mapp[-1].append(32)\n",
    "mapp = np.pad(np.array(mapp),(1,1),mode='constant',constant_values = 32)\n",
    "#Find all Portals Names & Location\n",
    "match_index = np.argwhere(mapp >=65).tolist()\n",
    "matched_list = []\n",
    "while match_index:\n",
    "    match1 = match_index.pop()\n",
    "    match2 = match_index[np.argmin(np.sum(np.abs(np.array(match1) - np.array(match_index)),axis=1))]\n",
    "    match_index.remove(match2)\n",
    "    matched_list.append([match1,match2])\n",
    "#Find all Tiles Next to Portal Names\n",
    "all_dict = defaultdict(list)\n",
    "for match in matched_list:\n",
    "    letter_combo = [mapp[tuple(match[0])],mapp[tuple(match[1])]]\n",
    "    letter_combo.sort()\n",
    "    col_row = np.argmax(abs(np.array(match[0]) - np.array(match[1]))) #1 look at column, 0 look at row\n",
    "    next1s = min(np.array(match)[:,col_row]) - 1\n",
    "    a = match[0][int(not col_row)]\n",
    "    if col_row:\n",
    "        row = a\n",
    "        col = next1s\n",
    "        if mapp[row,col] != 46:\n",
    "            col = next1s + 3\n",
    "    else:\n",
    "        row = next1s\n",
    "        col = a\n",
    "        if mapp[row,col] != 46:\n",
    "            row = next1s + 3\n",
    "    if letter_combo[0] == letter_combo[1]:\n",
    "        if letter_combo[0] == 65:\n",
    "            start = tuple((row,col))\n",
    "        elif letter_combo[0] == 90:\n",
    "            end = tuple((row,col))\n",
    "        else:\n",
    "            all_dict[tuple(letter_combo)].append(tuple((row,col)))\n",
    "    else:\n",
    "        all_dict[tuple(letter_combo)].append(tuple((row,col)))\n",
    "#Create Portal Dictionary\n",
    "portal_dict = {value[0]:value[1] for value in all_dict.values()}\n",
    "portal_dict.update({value[1]:value[0] for value in all_dict.values()})\n",
    "outer_portal = [key for key in portal_dict \n",
    "                if ((key[0] == 3) | (key[1]== 3) | (key[0]== (mapp.shape[0]-4))| (key[1]== (mapp.shape[1]-4)))]"
   ]
  },
  {
   "cell_type": "code",
   "execution_count": 43,
   "metadata": {},
   "outputs": [
    {
     "data": {
      "text/plain": [
       "498"
      ]
     },
     "execution_count": 43,
     "metadata": {},
     "output_type": "execute_result"
    }
   ],
   "source": [
    "#Breadth First Search\n",
    "all_paths = np.argwhere(mapp == 46)\n",
    "all_paths = {tuple(xy) for xy in all_paths}\n",
    "all_paths_count = dict.fromkeys(all_paths,0)\n",
    "direc = np.array([[0,1],[0,-1],[1,0],[-1,0]])\n",
    "visited = set()\n",
    "nextxy = queue.Queue()\n",
    "curxy = start\n",
    "nextxy.put(start) #Currently a tuple\n",
    "while curxy != end:\n",
    "    curxy = nextxy.get()\n",
    "    visited.add(curxy)\n",
    "    neighbors = np.array(curxy) + direc\n",
    "    neighbors = {tuple(xy) for xy in neighbors}\n",
    "    neighbors = all_paths.intersection(neighbors) - visited\n",
    "    for n in neighbors:\n",
    "        if n in portal_dict:\n",
    "            n = portal_dict[n]\n",
    "            all_paths_count[n] = all_paths_count[curxy] + 2\n",
    "        else:\n",
    "            all_paths_count[n] = all_paths_count[curxy] + 1\n",
    "        nextxy.put(n)\n",
    "all_paths_count[end]"
   ]
  },
  {
   "cell_type": "code",
   "execution_count": 44,
   "metadata": {},
   "outputs": [],
   "source": [
    "#Part 2\n",
    "all_paths_ori = np.argwhere(mapp == 46).tolist() #Original path index\n",
    "map_level = 0\n",
    "all_paths = {tuple([map_level]+xy) for xy in all_paths_ori} #update for each layer added\n",
    "all_paths_count = dict.fromkeys(all_paths,0) #update for each layer added\n",
    "end_o, start_o = tuple([map_level] + list(end)), tuple([map_level] + list(start))"
   ]
  },
  {
   "cell_type": "code",
   "execution_count": null,
   "metadata": {},
   "outputs": [],
   "source": [
    "direc = np.array([[0,0,1],[0,0,-1],[0,1,0],[0,-1,0]])\n",
    "visited = set()\n",
    "nextxy = queue.Queue()\n",
    "curxy = start_o\n",
    "nextxy.put(start_o) #Currently a tuple\n",
    "while curxy != end_o:\n",
    "    curxy = nextxy.get()\n",
    "    visited.add(curxy)\n",
    "    neighbors = np.array(curxy) + direc\n",
    "    neighbors = {tuple(xy) for xy in neighbors}\n",
    "    neighbors = all_paths.intersection(neighbors) - visited\n",
    "    for n in neighbors:\n",
    "        nxy = n[1:]\n",
    "        if nxy in portal_dict:\n",
    "            nxy1 = portal_dict[nxy]\n",
    "            if nxy in outer_portal: #go one level back\n",
    "                n = tuple((n[0]-1,nxy1[0],nxy1[1]))\n",
    "            else: #not in portal_tracker, go one level deeper\n",
    "                if map_level < (curxy[0]+1): #If map_level is less than curxy\n",
    "                    map_level +=1\n",
    "                    all_path_next = {tuple([map_level]+xy) for xy in all_paths_ori}\n",
    "                    all_paths.update(all_path_next)\n",
    "                    all_paths_count.update(dict.fromkeys(all_path_next,0))\n",
    "                n = tuple((n[0]+1,nxy1[0],nxy1[1]))\n",
    "            all_paths_count[n] = all_paths_count[curxy] + 2\n",
    "        else: #note portal\n",
    "            all_paths_count[n] = all_paths_count[curxy] + 1\n",
    "        nextxy.put(n)\n",
    "all_paths_count[end_o]"
   ]
  }
 ],
 "metadata": {
  "kernelspec": {
   "display_name": "Python 3",
   "language": "python",
   "name": "python3"
  },
  "language_info": {
   "codemirror_mode": {
    "name": "ipython",
    "version": 3
   },
   "file_extension": ".py",
   "mimetype": "text/x-python",
   "name": "python",
   "nbconvert_exporter": "python",
   "pygments_lexer": "ipython3",
   "version": "3.7.4"
  }
 },
 "nbformat": 4,
 "nbformat_minor": 2
}
