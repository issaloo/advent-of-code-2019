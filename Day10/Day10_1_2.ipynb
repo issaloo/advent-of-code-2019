{
 "cells": [
  {
   "cell_type": "code",
   "execution_count": 288,
   "metadata": {},
   "outputs": [],
   "source": [
    "import numpy as np\n",
    "import pandas as pd\n",
    "import itertools\n",
    "arr = []\n",
    "with open('Day10.txt') as f:\n",
    "    for line in f.readlines():\n",
    "        arr.append([1 if num == '#' else 0 for num in line.strip()])\n",
    "arr = np.array(arr)"
   ]
  },
  {
   "cell_type": "code",
   "execution_count": 289,
   "metadata": {},
   "outputs": [],
   "source": [
    "coord = np.argwhere(arr==1)\n",
    "compcoord = coord[:,1] + 1j*coord[:,0]\n",
    "nnmat = np.array([compcoord,]*len(compcoord))\n",
    "nnmat -= np.transpose(compcoord.reshape((1,-1)))\n",
    "nnmat = nnmat[nnmat != 0].reshape((len(compcoord),len(compcoord)-1))\n",
    "nnmat = np.angle(nnmat,deg=True)"
   ]
  },
  {
   "cell_type": "code",
   "execution_count": 290,
   "metadata": {},
   "outputs": [],
   "source": [
    "atr_ct = []\n",
    "for row in range(nnmat.shape[0]):\n",
    "    ct = len(np.unique(nnmat[row,:]))\n",
    "    atr_ct.append(ct)"
   ]
  },
  {
   "cell_type": "code",
   "execution_count": 291,
   "metadata": {},
   "outputs": [
    {
     "data": {
      "text/plain": [
       "269"
      ]
     },
     "execution_count": 291,
     "metadata": {},
     "output_type": "execute_result"
    }
   ],
   "source": [
    "np.max(atr_ct)"
   ]
  },
  {
   "cell_type": "code",
   "execution_count": 292,
   "metadata": {},
   "outputs": [],
   "source": [
    "#Part 2\n",
    "base = compcoord[np.argmax(atr_ct)]\n",
    "nnmat1 = compcoord - base\n",
    "nnmat1 = nnmat1[nnmat1 != 0]"
   ]
  },
  {
   "cell_type": "code",
   "execution_count": 293,
   "metadata": {
    "scrolled": true
   },
   "outputs": [],
   "source": [
    "nnmat1_angle = np.angle(nnmat1,deg=True)\n",
    "nnmat1_angle[nnmat1_angle>=-90] += 90\n",
    "nnmat1_angle[nnmat1_angle<0] += 450"
   ]
  },
  {
   "cell_type": "code",
   "execution_count": 294,
   "metadata": {},
   "outputs": [],
   "source": [
    "nnmat1_tot = np.column_stack((nnmat1_angle,np.absolute(nnmat1),np.arange(len(coord)-1)))\n",
    "index = np.lexsort((nnmat1_tot[:,1],nnmat1_tot[:,0]))\n",
    "nnmat1_sort = np.column_stack((nnmat1_tot[index],np.arange(len(coord)-1)))"
   ]
  },
  {
   "cell_type": "code",
   "execution_count": 295,
   "metadata": {},
   "outputs": [],
   "source": [
    "uniq_num, uniq_ind = np.unique(nnmat1_sort[:,0],return_index = True)"
   ]
  },
  {
   "cell_type": "code",
   "execution_count": 296,
   "metadata": {},
   "outputs": [
    {
     "data": {
      "text/plain": [
       "612"
      ]
     },
     "execution_count": 296,
     "metadata": {},
     "output_type": "execute_result"
    }
   ],
   "source": [
    "for i, num in enumerate(uniq_num):\n",
    "    nnmat1_sort[np.argwhere(nnmat1_sort[:,0] == num),3] -= uniq_ind[i]\n",
    "nnmat1_sort = nnmat1_sort[np.lexsort((nnmat1_sort[:,0],nnmat1_sort[:,3])),:]\n",
    "coord200 = coord[int(nnmat1_sort[199,2])]\n",
    "coord200[1]*100 + coord200[0]"
   ]
  },
  {
   "cell_type": "code",
   "execution_count": null,
   "metadata": {},
   "outputs": [],
   "source": []
  }
 ],
 "metadata": {
  "kernelspec": {
   "display_name": "Python 3",
   "language": "python",
   "name": "python3"
  },
  "language_info": {
   "codemirror_mode": {
    "name": "ipython",
    "version": 3
   },
   "file_extension": ".py",
   "mimetype": "text/x-python",
   "name": "python",
   "nbconvert_exporter": "python",
   "pygments_lexer": "ipython3",
   "version": "3.6.8"
  }
 },
 "nbformat": 4,
 "nbformat_minor": 2
}
