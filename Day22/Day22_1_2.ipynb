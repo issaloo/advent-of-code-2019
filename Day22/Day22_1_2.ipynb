{
 "cells": [
  {
   "cell_type": "code",
   "execution_count": 20,
   "metadata": {},
   "outputs": [],
   "source": [
    "import re\n",
    "import numpy as np\n",
    "action_list = []\n",
    "with open('Day22.txt') as f:\n",
    "    for line in f.readlines():\n",
    "        line = line.strip()\n",
    "        action = re.split('(-?\\d+)',line)\n",
    "        action = [lines.strip() for lines in action if lines]\n",
    "        if len(action) > 1:\n",
    "            action[1] = int(action[1])\n",
    "        action_list.append(action)"
   ]
  },
  {
   "cell_type": "code",
   "execution_count": 3,
   "metadata": {
    "scrolled": true
   },
   "outputs": [],
   "source": [
    "cur_deck = np.arange(10007)"
   ]
  },
  {
   "cell_type": "code",
   "execution_count": 4,
   "metadata": {},
   "outputs": [],
   "source": [
    "def new_stack(deck):\n",
    "    return np.flip(deck)"
   ]
  },
  {
   "cell_type": "code",
   "execution_count": 5,
   "metadata": {},
   "outputs": [],
   "source": [
    "def cut_stack(deck,num):\n",
    "    new_deck = np.zeros(len(deck),dtype=np.int64)\n",
    "    if num > 0:\n",
    "        new_deck[-num:] = deck[:num].copy()\n",
    "        new_deck[:-num] = deck[num:].copy()\n",
    "    else:\n",
    "        new_deck[:-num] = deck[num:].copy()\n",
    "        new_deck[-num:] = deck[:num].copy()\n",
    "    return new_deck"
   ]
  },
  {
   "cell_type": "code",
   "execution_count": 6,
   "metadata": {},
   "outputs": [],
   "source": [
    "def incr_stack(deck,num):\n",
    "    deck_len = len(deck)\n",
    "    new_deck = np.zeros(deck_len,dtype=np.int64)\n",
    "    index = np.remainder(np.arange(0,deck_len*num,num),deck_len)\n",
    "    new_deck[index] = deck.copy()\n",
    "    return new_deck"
   ]
  },
  {
   "cell_type": "code",
   "execution_count": 7,
   "metadata": {},
   "outputs": [],
   "source": [
    "for action in action_list:\n",
    "    if action[0] == 'cut':\n",
    "        cur_deck = cut_stack(cur_deck,action[1])\n",
    "    elif action[0] == 'deal with increment':\n",
    "        cur_deck = incr_stack(cur_deck,action[1])\n",
    "    else:\n",
    "        cur_deck = new_stack(cur_deck)"
   ]
  },
  {
   "cell_type": "code",
   "execution_count": 8,
   "metadata": {},
   "outputs": [
    {
     "data": {
      "text/plain": [
       "4775"
      ]
     },
     "execution_count": 8,
     "metadata": {},
     "output_type": "execute_result"
    }
   ],
   "source": [
    "np.argwhere(cur_deck == 2019)[0][0]"
   ]
  },
  {
   "cell_type": "code",
   "execution_count": 30,
   "metadata": {},
   "outputs": [
    {
     "data": {
      "text/plain": [
       "37889219674304"
      ]
     },
     "execution_count": 30,
     "metadata": {},
     "output_type": "execute_result"
    }
   ],
   "source": [
    "#Part 2\n",
    "d = 119315717514047 #deck size\n",
    "n = 101741582076661 #shuffle size\n",
    "pos = 2020\n",
    "\n",
    "def new_stack1(increment,offset):\n",
    "    increment *= -1\n",
    "    offset += increment\n",
    "    return increment, offset\n",
    "def cut_stack1(increment,offset,n):\n",
    "    offset += increment*n\n",
    "    return increment, offset\n",
    "def incr_stack1(increment,offset,n):\n",
    "    increment *= pow(n,d-2,d)\n",
    "    return increment, offset\n",
    "incr = 1\n",
    "off = 0\n",
    "for action in action_list:\n",
    "    if action[0] == 'cut':\n",
    "        incr,off = cut_stack1(incr,off,action[1])\n",
    "    elif action[0] == 'deal with increment':\n",
    "        incr,off = incr_stack1(incr,off,action[1])\n",
    "    else:\n",
    "        incr,off = new_stack1(incr,off)\n",
    "    incr %= d\n",
    "    off %= d\n",
    "increment = pow(incr,n,d)\n",
    "offset = off*(1-increment)*pow((1-incr)%d,d-2,d)\n",
    "offset %= d\n",
    "card = (offset + pos*increment) % d\n",
    "card"
   ]
  }
 ],
 "metadata": {
  "kernelspec": {
   "display_name": "Python 3",
   "language": "python",
   "name": "python3"
  },
  "language_info": {
   "codemirror_mode": {
    "name": "ipython",
    "version": 3
   },
   "file_extension": ".py",
   "mimetype": "text/x-python",
   "name": "python",
   "nbconvert_exporter": "python",
   "pygments_lexer": "ipython3",
   "version": "3.7.4"
  }
 },
 "nbformat": 4,
 "nbformat_minor": 2
}
