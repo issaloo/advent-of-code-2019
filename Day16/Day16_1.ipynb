{
 "cells": [
  {
   "cell_type": "code",
   "execution_count": 81,
   "metadata": {},
   "outputs": [],
   "source": [
    "import numpy as np\n",
    "import itertools\n",
    "with open('Day16.txt') as f:\n",
    "    inpt = f.read().strip()\n",
    "    inpt = [int(num) for num in inpt]\n",
    "inpt_arr = np.array(inpt,dtype=np.int32)"
   ]
  },
  {
   "cell_type": "code",
   "execution_count": 82,
   "metadata": {},
   "outputs": [],
   "source": [
    "pattern = [0,1,0,-1]\n",
    "inpt_len = len(inpt_arr)\n",
    "pattern_all = np.zeros(shape=(inpt_len,1),dtype=np.int32)\n",
    "for i in range(1,inpt_len+1):\n",
    "    pattern_elem = list(itertools.chain.from_iterable(itertools.repeat(x,i) for x in pattern))\n",
    "    pattern_leng = pattern_elem*int(np.ceil(inpt_len/(len(pattern_elem)-1)))\n",
    "    pattern_tot = pattern_leng[1:(inpt_len+1)]\n",
    "    pattern_all = np.column_stack((pattern_all,pattern_tot))\n",
    "pattern_all = np.transpose(pattern_all[:,1:])"
   ]
  },
  {
   "cell_type": "code",
   "execution_count": 83,
   "metadata": {},
   "outputs": [],
   "source": [
    "def fft(inpt_arr1):\n",
    "    global pattern_all\n",
    "    inpt_arr_mat = np.array([inpt_arr1,]*inpt_len)\n",
    "    output_arr1 = np.abs(np.sum(inpt_arr_mat*pattern_all,axis=1)) % 10\n",
    "    return output_arr1"
   ]
  },
  {
   "cell_type": "code",
   "execution_count": 84,
   "metadata": {},
   "outputs": [
    {
     "data": {
      "text/plain": [
       "array([6, 3, 4, 8, 3, 7, 5, 8], dtype=int32)"
      ]
     },
     "execution_count": 84,
     "metadata": {},
     "output_type": "execute_result"
    }
   ],
   "source": [
    "for i in range(100):\n",
    "    output_arr = fft(inpt_arr)\n",
    "    inpt_arr = output_arr\n",
    "inpt_arr[:8]"
   ]
  }
 ],
 "metadata": {
  "kernelspec": {
   "display_name": "Python 3",
   "language": "python",
   "name": "python3"
  },
  "language_info": {
   "codemirror_mode": {
    "name": "ipython",
    "version": 3
   },
   "file_extension": ".py",
   "mimetype": "text/x-python",
   "name": "python",
   "nbconvert_exporter": "python",
   "pygments_lexer": "ipython3",
   "version": "3.6.8"
  }
 },
 "nbformat": 4,
 "nbformat_minor": 2
}
