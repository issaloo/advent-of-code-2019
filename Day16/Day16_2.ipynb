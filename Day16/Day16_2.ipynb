{
 "cells": [
  {
   "cell_type": "code",
   "execution_count": 347,
   "metadata": {},
   "outputs": [],
   "source": [
    "import numpy as np\n",
    "import itertools\n",
    "with open('Day16.txt') as f:\n",
    "    inpt = f.read().strip()\n",
    "    inpt = [int(num) for num in inpt]\n",
    "inpt_arr = np.array(inpt,dtype=np.int32)"
   ]
  },
  {
   "cell_type": "code",
   "execution_count": 348,
   "metadata": {},
   "outputs": [],
   "source": [
    "msg_offset = int(\"\".join([str(num) for num in inpt_arr[:7].copy()]))\n",
    "inpt_len = len(inpt_arr)\n",
    "closest_inpt_rep = int(msg_offset/inpt_len)*inpt_len\n",
    "offset_ind = msg_offset - closest_inpt_rep\n",
    "rep = int((inpt_len*10000 - closest_inpt_rep)/inpt_len)-1\n",
    "inpt_1 = inpt[offset_ind:]\n",
    "pattern = [0,1,0,-1]"
   ]
  },
  {
   "cell_type": "code",
   "execution_count": 349,
   "metadata": {},
   "outputs": [],
   "source": [
    "inpt_rep = inpt_1 + inpt*rep\n",
    "inpt_rep_arr = np.array(inpt_rep)"
   ]
  },
  {
   "cell_type": "code",
   "execution_count": 350,
   "metadata": {},
   "outputs": [],
   "source": [
    "def fft2(inpt_rep_arr1):\n",
    "    inpt_rep_cumsum = np.cumsum(inpt_rep_arr1[::-1])[::-1]\n",
    "    output_arr1 = np.abs(inpt_rep_cumsum) % 10\n",
    "    return output_arr1"
   ]
  },
  {
   "cell_type": "code",
   "execution_count": 351,
   "metadata": {},
   "outputs": [
    {
     "data": {
      "text/plain": [
       "array([9, 6, 0, 9, 9, 5, 5, 1], dtype=int32)"
      ]
     },
     "execution_count": 351,
     "metadata": {},
     "output_type": "execute_result"
    }
   ],
   "source": [
    "for i in range(100):\n",
    "    output_arr = fft2(inpt_rep_arr)\n",
    "    inpt_rep_arr = output_arr\n",
    "inpt_rep_arr[:8]"
   ]
  },
  {
   "cell_type": "code",
   "execution_count": null,
   "metadata": {},
   "outputs": [],
   "source": []
  }
 ],
 "metadata": {
  "kernelspec": {
   "display_name": "Python 3",
   "language": "python",
   "name": "python3"
  },
  "language_info": {
   "codemirror_mode": {
    "name": "ipython",
    "version": 3
   },
   "file_extension": ".py",
   "mimetype": "text/x-python",
   "name": "python",
   "nbconvert_exporter": "python",
   "pygments_lexer": "ipython3",
   "version": "3.7.4"
  }
 },
 "nbformat": 4,
 "nbformat_minor": 2
}
