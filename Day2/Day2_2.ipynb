{
 "cells": [
  {
   "cell_type": "code",
   "execution_count": 77,
   "metadata": {},
   "outputs": [],
   "source": [
    "import numpy as np\n",
    "from itertools import permutations\n",
    "arr = np.genfromtxt('Day2.txt',delimiter = ',',dtype=int)"
   ]
  },
  {
   "cell_type": "code",
   "execution_count": 78,
   "metadata": {},
   "outputs": [],
   "source": [
    "def day2(iter1):\n",
    "    arr1 = arr.copy()\n",
    "    arr1[1], arr1[2], index = iter1[0], iter1[1], 0\n",
    "    while arr1[index] != 99:\n",
    "        if arr1[index] == 1:\n",
    "            arr1[arr1[index+3]] = arr1[arr1[index+1]] + arr1[arr1[index+2]]\n",
    "        else:\n",
    "            arr1[arr1[index+3]] = arr1[arr1[index+1]] * arr1[arr1[index+2]]\n",
    "        index += 4\n",
    "    ans = arr1[0]\n",
    "    return ans"
   ]
  },
  {
   "cell_type": "code",
   "execution_count": 84,
   "metadata": {},
   "outputs": [
    {
     "data": {
      "text/plain": [
       "2254"
      ]
     },
     "execution_count": 84,
     "metadata": {},
     "output_type": "execute_result"
    }
   ],
   "source": [
    "iterlist = list(permutations(range(0,100),2))\n",
    "ans, i = 0, -1\n",
    "while ans != 19690720:\n",
    "    i += 1\n",
    "    iter1 = iterlist[i]\n",
    "    try:\n",
    "        ans = day2(iter1)\n",
    "    except IndexError:\n",
    "        ans = 0\n",
    "ans = 100*iter1[0] + iter1[1]\n",
    "ans"
   ]
  }
 ],
 "metadata": {
  "kernelspec": {
   "display_name": "Python 3",
   "language": "python",
   "name": "python3"
  },
  "language_info": {
   "codemirror_mode": {
    "name": "ipython",
    "version": 3
   },
   "file_extension": ".py",
   "mimetype": "text/x-python",
   "name": "python",
   "nbconvert_exporter": "python",
   "pygments_lexer": "ipython3",
   "version": "3.7.4"
  }
 },
 "nbformat": 4,
 "nbformat_minor": 2
}
