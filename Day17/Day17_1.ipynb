{
 "cells": [
  {
   "cell_type": "code",
   "execution_count": 154,
   "metadata": {},
   "outputs": [],
   "source": [
    "import numpy as np\n",
    "import queue\n",
    "arr = np.genfromtxt('Day17.txt',delimiter = ',',dtype=np.int64)"
   ]
  },
  {
   "cell_type": "code",
   "execution_count": 1,
   "metadata": {},
   "outputs": [],
   "source": [
    "def indexing(listt,index):\n",
    "    inxlist = []\n",
    "    global arr1\n",
    "    for i, ss in enumerate(listt):\n",
    "        if ss == '0': #position mode\n",
    "            inxlist.append(arr1[index+i+1])\n",
    "        elif ss =='1': #immediate mode\n",
    "            inxlist.append(index+i+1)\n",
    "        else: #ss == '2'\n",
    "            global base\n",
    "            inxlist.append(arr1[index+i+1]+base)\n",
    "    return inxlist\n",
    "\n",
    "def arrOdict(inxlist):\n",
    "    global arr1\n",
    "    global lgmem\n",
    "    vallist = []\n",
    "    for inx in inxlist:\n",
    "        if inx > (len(arr1)-1):\n",
    "            if inx not in lgmem.keys():\n",
    "                lgmem[inx] = 0\n",
    "                vallist.append(lgmem[inx])\n",
    "            else:\n",
    "                vallist.append(lgmem[inx])\n",
    "        else:\n",
    "            vallist.append(arr1[inx])\n",
    "    return vallist\n",
    "\n",
    "def setequal(inxequal,num):\n",
    "    global arr1\n",
    "    global lgmem\n",
    "    if inxequal > (len(arr1)-1):\n",
    "        lgmem[inxequal] = num\n",
    "    else:\n",
    "        arr1[inxequal] = num\n",
    "    return None\n",
    "\n",
    "def opcodeAct(index,inxlist,opcode):\n",
    "    global arr1\n",
    "    global inpt\n",
    "    global asciiQ\n",
    "    vallist = arrOdict(inxlist)\n",
    "    if opcode == 1:\n",
    "        setequal(inxlist[2],vallist[0] + vallist[1])\n",
    "        index += 4\n",
    "    elif opcode == 2:\n",
    "        setequal(inxlist[2],vallist[0] * vallist[1])\n",
    "        index += 4\n",
    "    elif opcode == 4:\n",
    "        asciiQ.put(vallist[0])\n",
    "        index += 2\n",
    "    elif opcode == 3:\n",
    "        setequal(inxlist[0],inpt)\n",
    "        index += 2\n",
    "    elif opcode == 5:\n",
    "        if vallist[0]: #If non-zero is true\n",
    "            index = vallist[1]\n",
    "        else:\n",
    "            index += 3\n",
    "    elif opcode == 6:\n",
    "        if not vallist[0]:\n",
    "            index = vallist[1]\n",
    "        else:\n",
    "            index += 3\n",
    "    elif opcode == 7:\n",
    "        if vallist[0] < vallist[1]:\n",
    "            setequal(inxlist[2],1)\n",
    "        else:\n",
    "            setequal(inxlist[2],0)\n",
    "        index += 4\n",
    "    elif opcode == 8:\n",
    "        if vallist[0] == vallist[1]:\n",
    "            setequal(inxlist[2],1)\n",
    "        else:\n",
    "            setequal(inxlist[2],0)\n",
    "        index += 4\n",
    "    elif opcode == 9:\n",
    "        global base\n",
    "        base += vallist[0]\n",
    "        index += 2\n",
    "    return index\n",
    "\n",
    "def day9(arr):\n",
    "    global arr1\n",
    "    global inpt\n",
    "    global dictMap\n",
    "    global asciiQ\n",
    "    arr1 = arr.copy()\n",
    "    index = 0\n",
    "    asciiQ = queue.Queue()\n",
    "    asciiList = []\n",
    "    dictMap_counter = 0\n",
    "    while arr1[index] != 99:\n",
    "        if arr1[index] in [1,2,7,8]:\n",
    "            index = opcodeAct(index,arr1[index+1:index+4],arr1[index])\n",
    "        elif arr1[index] in [5,6]:\n",
    "            index = opcodeAct(index,arr1[index+1:index+3],arr1[index])\n",
    "        elif arr1[index] in [3,4,9]:\n",
    "            index = opcodeAct(index,arr1[index+1:index+2],arr1[index])\n",
    "        else: #5 digit opcode\n",
    "            s = str(arr1[index])\n",
    "            s = s.rjust(5,'0')\n",
    "            s = s[::-1]\n",
    "            if int(s[0]) in [1,2,7,8]:\n",
    "                inxlist = indexing(s[2:],index)\n",
    "            elif int(s[0]) in [5,6]:\n",
    "                inxlist = indexing(s[2:4],index)\n",
    "            elif int(s[0]) in [3,4,9]:\n",
    "                inxlist = indexing(s[2:3],index)\n",
    "            index = opcodeAct(index,inxlist,int(s[0]))\n",
    "        if len(asciiQ.queue) == 1:\n",
    "            asciiV = asciiQ.get()\n",
    "            if asciiV == 35: #1 = Scaffold\n",
    "                asciiList.append(1)\n",
    "            elif asciiV == 46: #0 = Open Space\n",
    "                asciiList.append(0)\n",
    "            elif asciiV == 94:\n",
    "                asciiList.append(1)\n",
    "            elif asciiV == 10:\n",
    "                dictMap[dictMap_counter] = asciiList\n",
    "                asciiList = []\n",
    "                dictMap_counter += 1\n",
    "    return None"
   ]
  },
  {
   "cell_type": "code",
   "execution_count": 285,
   "metadata": {},
   "outputs": [],
   "source": [
    "base = 0\n",
    "lgmem = {}\n",
    "inpt = 2\n",
    "dictMap = {}\n",
    "day9(arr)"
   ]
  },
  {
   "cell_type": "code",
   "execution_count": 279,
   "metadata": {},
   "outputs": [],
   "source": [
    "dictMap_list = [value for value in dictMap.values() if value != []]\n",
    "dictMap_arr = np.array(dictMap_list)\n",
    "dictMap_arr_pad = np.pad(dictMap_arr,[1,1],mode='constant')"
   ]
  },
  {
   "cell_type": "code",
   "execution_count": 280,
   "metadata": {},
   "outputs": [],
   "source": [
    "row_len = range(1,dictMap_arr_pad.shape[0]-1)\n",
    "column_len = range(1,dictMap_arr_pad.shape[1]-1)"
   ]
  },
  {
   "cell_type": "code",
   "execution_count": 281,
   "metadata": {},
   "outputs": [],
   "source": [
    "dictMap_inter = np.zeros(dictMap_arr.shape)\n",
    "for row in row_len:\n",
    "    for col in column_len:\n",
    "        dictMap_inter[row-1,col-1] = (dictMap_arr_pad[row-1,col]+dictMap_arr_pad[row+1,col]+\n",
    "                        dictMap_arr_pad[row,col-1]+dictMap_arr_pad[row,col+1]+\n",
    "                         dictMap_arr_pad[row,col])"
   ]
  },
  {
   "cell_type": "code",
   "execution_count": 282,
   "metadata": {},
   "outputs": [
    {
     "data": {
      "text/plain": [
       "2660"
      ]
     },
     "execution_count": 282,
     "metadata": {},
     "output_type": "execute_result"
    }
   ],
   "source": [
    "inter_index = np.argwhere(dictMap_inter == 5)\n",
    "np.sum((inter_index[:,0])*(inter_index[:,1]))"
   ]
  }
 ],
 "metadata": {
  "kernelspec": {
   "display_name": "Python 3",
   "language": "python",
   "name": "python3"
  },
  "language_info": {
   "codemirror_mode": {
    "name": "ipython",
    "version": 3
   },
   "file_extension": ".py",
   "mimetype": "text/x-python",
   "name": "python",
   "nbconvert_exporter": "python",
   "pygments_lexer": "ipython3",
   "version": "3.7.4"
  }
 },
 "nbformat": 4,
 "nbformat_minor": 2
}
