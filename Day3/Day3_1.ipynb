{
 "cells": [
  {
   "cell_type": "code",
   "execution_count": 125,
   "metadata": {},
   "outputs": [],
   "source": [
    "import numpy as np\n",
    "import re"
   ]
  },
  {
   "cell_type": "code",
   "execution_count": 126,
   "metadata": {},
   "outputs": [],
   "source": [
    "arrlist = []\n",
    "with open('Day3.txt') as f:\n",
    "    for x in f.readlines():\n",
    "        arrlist.append(x.split()[0].split(','))\n",
    "arrlist = [[re.split('(\\d+)', list2)[:2] for list2 in list1] for list1 in arrlist]"
   ]
  },
  {
   "cell_type": "code",
   "execution_count": 127,
   "metadata": {},
   "outputs": [],
   "source": [
    "direc1, direc2 = np.array([lttr[0] for lttr in arrlist[0]]), np.array([lttr[0] for lttr in arrlist[1]])\n",
    "val1, val2 = np.array([val[1] for val in arrlist[0]],dtype=int), np.array([val[1] for val in arrlist[1]],dtype=int)"
   ]
  },
  {
   "cell_type": "code",
   "execution_count": 128,
   "metadata": {},
   "outputs": [
    {
     "name": "stdout",
     "output_type": "stream",
     "text": [
      "Starting Direction 1 is: R\n",
      "Starting Direction 2 is: L\n"
     ]
    }
   ],
   "source": [
    "index1, index2 = np.logical_or(direc1=='L',direc1=='D'), np.logical_or(direc2=='L',direc2=='D')\n",
    "val1[index1], val2[index2] = -val1[index1], -val2[index2]\n",
    "print('Starting Direction 1 is: {}\\nStarting Direction 2 is: {}'.format(direc1[0],direc2[0]))"
   ]
  },
  {
   "cell_type": "code",
   "execution_count": 129,
   "metadata": {},
   "outputs": [
    {
     "name": "stdout",
     "output_type": "stream",
     "text": [
      "Size of Map: 12000\n"
     ]
    }
   ],
   "source": [
    "val_cumsum = np.concatenate((np.cumsum(val1[0::2]), np.cumsum(val2[0::2]), np.cumsum(val1[1::2]), np.cumsum(val2[1::2])))\n",
    "size = round(2*max(abs(min(val_cumsum)),max(val_cumsum)),-2)\n",
    "print('Size of Map: {}'.format(size))"
   ]
  },
  {
   "cell_type": "code",
   "execution_count": 130,
   "metadata": {},
   "outputs": [],
   "source": [
    "map1, map2 = np.zeros(shape=(size,size)), np.zeros(shape=(size,size))\n",
    "def mapquest(val,size,mapp):\n",
    "    stt = np.array((size/2,size/2),dtype=int)\n",
    "    for i in range(len(val)):\n",
    "        if (i % 2): #Y direction, Odd\n",
    "            if val[i] > 0: #Positive\n",
    "                mapp[stt[0]+1:stt[0]+val[i]+1,stt[1]] = 1\n",
    "                stt[0] += val[i] \n",
    "            else: #Negative\n",
    "                mapp[stt[0]+val[i]:stt[0],stt[1]] = 1\n",
    "                stt[0] += val[i]\n",
    "        else: #X direction\n",
    "            if val[i] > 0: #Positive\n",
    "                mapp[stt[0],stt[1]+1:stt[1]+val[i]+1] = 1\n",
    "                stt[1] += val[i] \n",
    "            else: #Negative\n",
    "                mapp[stt[0],stt[1]+val[i]:stt[1]] = 1\n",
    "                stt[1] += val[i] \n",
    "    return mapp\n",
    "map1 = mapquest(val1,size,map1)\n",
    "map2 = mapquest(val2,size,map2)\n",
    "map3 = map1 + map2\n",
    "index2 = np.transpose(np.asarray(np.where(map3 == 2)))"
   ]
  },
  {
   "cell_type": "code",
   "execution_count": 132,
   "metadata": {},
   "outputs": [
    {
     "data": {
      "text/plain": [
       "303"
      ]
     },
     "execution_count": 132,
     "metadata": {},
     "output_type": "execute_result"
    }
   ],
   "source": [
    "ans = np.min(np.sum(abs(index2 - int(size/2)), axis=1))\n",
    "ans"
   ]
  },
  {
   "cell_type": "code",
   "execution_count": null,
   "metadata": {},
   "outputs": [],
   "source": []
  }
 ],
 "metadata": {
  "kernelspec": {
   "display_name": "Python 3",
   "language": "python",
   "name": "python3"
  },
  "language_info": {
   "codemirror_mode": {
    "name": "ipython",
    "version": 3
   },
   "file_extension": ".py",
   "mimetype": "text/x-python",
   "name": "python",
   "nbconvert_exporter": "python",
   "pygments_lexer": "ipython3",
   "version": "3.7.4"
  }
 },
 "nbformat": 4,
 "nbformat_minor": 2
}
