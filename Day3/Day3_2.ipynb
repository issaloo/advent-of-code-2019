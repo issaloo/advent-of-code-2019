{
 "cells": [
  {
   "cell_type": "code",
   "execution_count": 1,
   "metadata": {},
   "outputs": [],
   "source": [
    "import numpy as np\n",
    "import re"
   ]
  },
  {
   "cell_type": "code",
   "execution_count": 55,
   "metadata": {},
   "outputs": [
    {
     "data": {
      "text/plain": [
       "303"
      ]
     },
     "execution_count": 55,
     "metadata": {},
     "output_type": "execute_result"
    }
   ],
   "source": [
    "arrlist = []\n",
    "with open('Day3.txt') as f:\n",
    "    for x in f.readlines():\n",
    "        arrlist.append(x.split()[0].split(','))\n",
    "arrlist = [[re.split('(\\d+)', list2)[:2] for list2 in list1] for list1 in arrlist]\n",
    "\n",
    "direc1, direc2 = np.array([lttr[0] for lttr in arrlist[0]]), np.array([lttr[0] for lttr in arrlist[1]])\n",
    "val1, val2 = np.array([val[1] for val in arrlist[0]],dtype=int), np.array([val[1] for val in arrlist[1]],dtype=int)\n",
    "index1, index2 = np.logical_or(direc1=='L',direc1=='D'), np.logical_or(direc2=='L',direc2=='D')\n",
    "val1[index1], val2[index2] = -val1[index1], -val2[index2]\n",
    "val_cumsum = np.concatenate((np.cumsum(val1[0::2]), np.cumsum(val2[0::2]), np.cumsum(val1[1::2]), np.cumsum(val2[1::2])))\n",
    "size = round(2*max(abs(min(val_cumsum)),max(val_cumsum)),-2)\n",
    "\n",
    "map1, map2 = np.zeros(shape=(size,size)), np.zeros(shape=(size,size))\n",
    "def mapquest(val,size,mapp):\n",
    "    stt = np.array((size/2,size/2),dtype=int)\n",
    "    for i in range(len(val)):\n",
    "        if (i % 2): #Y direction, Odd\n",
    "            if val[i] > 0: #Positive\n",
    "                mapp[stt[0]+1:stt[0]+val[i]+1,stt[1]] = 1\n",
    "                stt[0] += val[i] \n",
    "            else: #Negative\n",
    "                mapp[stt[0]+val[i]:stt[0],stt[1]] = 1\n",
    "                stt[0] += val[i]\n",
    "        else: #X direction\n",
    "            if val[i] > 0: #Positive\n",
    "                mapp[stt[0],stt[1]+1:stt[1]+val[i]+1] = 1\n",
    "                stt[1] += val[i] \n",
    "            else: #Negative\n",
    "                mapp[stt[0],stt[1]+val[i]:stt[1]] = 1\n",
    "                stt[1] += val[i]\n",
    "    return mapp\n",
    "map1 = mapquest(val1,size,map1)\n",
    "map2 = mapquest(val2,size,map2)\n",
    "map3 = map1 + map2\n",
    "index2 = np.transpose(np.asarray(np.where(map3 == 2)))\n",
    "len(index2)\n",
    "ans = np.min(np.sum(abs(index2 - int(size/2)), axis=1))"
   ]
  },
  {
   "cell_type": "code",
   "execution_count": 89,
   "metadata": {},
   "outputs": [
    {
     "data": {
      "text/plain": [
       "11222.0"
      ]
     },
     "execution_count": 89,
     "metadata": {},
     "output_type": "execute_result"
    }
   ],
   "source": [
    "val1nf, step1, stt1 = np.flip(-val1), np.sum(abs(val1)), np.array((np.sum(val1[1::2]), np.sum(val1[::2])))+int(size/2)\n",
    "val2nf, step2, stt2 = np.flip(-val2), np.sum(abs(val2)), np.array((np.sum(val2[1::2]), np.sum(val2[::2])))+int(size/2)\n",
    "\n",
    "#When you flip, directions still starts at X direction\n",
    "maps1, maps2 = np.zeros(shape=(size,size)), np.zeros(shape=(size,size))\n",
    "def mapquest2(val,stt,step,mapp):\n",
    "    steparr = np.arange(step,0,-1)\n",
    "    count = 0\n",
    "    for i in range(len(val)):\n",
    "        if (i % 2): #Y direction, Odd\n",
    "            if val[i] > 0: #Up\n",
    "                mapp[stt[0]:stt[0]+val[i],stt[1]] = steparr[count:count+val[i]]\n",
    "                stt[0] += val[i]\n",
    "                count += val[i]\n",
    "            else: #Down\n",
    "                if count == 0:\n",
    "                    mapp[stt[0],stt[1]+val[i]+1:stt[1]+1] = steparr[count-val[i]-1::-1]\n",
    "                else:\n",
    "                    mapp[stt[0]+val[i]+1:stt[0]+1,stt[1]] = steparr[count-val[i]-1:count-1:-1]\n",
    "                stt[0] += val[i]\n",
    "                count -= val[i]\n",
    "        else: #X direction, Even\n",
    "            if val[i] > 0: #Right\n",
    "                mapp[stt[0],stt[1]:stt[1]+val[i]] = steparr[count:count+val[i]]\n",
    "                stt[1] += val[i]\n",
    "                count += val[i]\n",
    "            else: #Left\n",
    "                if count == 0:\n",
    "                    mapp[stt[0],stt[1]+val[i]+1:stt[1]+1] = steparr[count-val[i]-1::-1]\n",
    "                else:\n",
    "                    mapp[stt[0],stt[1]+val[i]+1:stt[1]+1] = steparr[count-val[i]-1:count-1:-1]\n",
    "                stt[1] += val[i]\n",
    "                count -= val[i]\n",
    "    return mapp\n",
    "maps1 = mapquest2(val1nf,stt1,step1,maps1)\n",
    "maps2 = mapquest2(val2nf,stt2,step2,maps2)\n",
    "maps3 = maps1 + maps2\n",
    "ans = min(maps3[map3==2])\n",
    "ans"
   ]
  }
 ],
 "metadata": {
  "kernelspec": {
   "display_name": "Python 3",
   "language": "python",
   "name": "python3"
  },
  "language_info": {
   "codemirror_mode": {
    "name": "ipython",
    "version": 3
   },
   "file_extension": ".py",
   "mimetype": "text/x-python",
   "name": "python",
   "nbconvert_exporter": "python",
   "pygments_lexer": "ipython3",
   "version": "3.7.4"
  }
 },
 "nbformat": 4,
 "nbformat_minor": 2
}
