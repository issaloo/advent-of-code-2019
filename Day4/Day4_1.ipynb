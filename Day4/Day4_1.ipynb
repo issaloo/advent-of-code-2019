{
 "cells": [
  {
   "cell_type": "code",
   "execution_count": 2,
   "metadata": {},
   "outputs": [],
   "source": [
    "import numpy as np"
   ]
  },
  {
   "cell_type": "code",
   "execution_count": 88,
   "metadata": {},
   "outputs": [],
   "source": [
    "numlist = [*range(273025,767253+1)]\n",
    "numlist =[str(i) for i in numlist]\n",
    "numlist = [[int(i) for i in num] for num in numlist]\n",
    "numlist = np.array(numlist)\n",
    "numarr = np.arange(273025,767253+1)"
   ]
  },
  {
   "cell_type": "code",
   "execution_count": 99,
   "metadata": {},
   "outputs": [],
   "source": [
    "index1 = np.all((numlist[:,0]<=numlist[:,1],\n",
    "        numlist[:,1]<=numlist[:,2],\n",
    "        numlist[:,2]<=numlist[:,3],\n",
    "        numlist[:,3]<=numlist[:,4],\n",
    "        numlist[:,4]<=numlist[:,5]),axis=0)"
   ]
  },
  {
   "cell_type": "code",
   "execution_count": 100,
   "metadata": {},
   "outputs": [],
   "source": [
    "index2 = np.any((numlist[:,0]==numlist[:,1],\n",
    "        numlist[:,1]==numlist[:,2],\n",
    "        numlist[:,2]==numlist[:,3],\n",
    "        numlist[:,3]==numlist[:,4],\n",
    "        numlist[:,4]==numlist[:,5]),axis=0)"
   ]
  },
  {
   "cell_type": "code",
   "execution_count": 101,
   "metadata": {},
   "outputs": [],
   "source": [
    "ans = len(numarr[index1&index2])\n",
    "ans"
   ]
  }
 ],
 "metadata": {
  "kernelspec": {
   "display_name": "Python 3",
   "language": "python",
   "name": "python3"
  },
  "language_info": {
   "codemirror_mode": {
    "name": "ipython",
    "version": 3
   },
   "file_extension": ".py",
   "mimetype": "text/x-python",
   "name": "python",
   "nbconvert_exporter": "python",
   "pygments_lexer": "ipython3",
   "version": "3.7.4"
  }
 },
 "nbformat": 4,
 "nbformat_minor": 2
}
