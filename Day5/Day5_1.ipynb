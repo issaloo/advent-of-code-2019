{
 "cells": [
  {
   "cell_type": "code",
   "execution_count": 14,
   "metadata": {},
   "outputs": [
    {
     "name": "stdout",
     "output_type": "stream",
     "text": [
      "ID of System to Test: 1\n"
     ]
    }
   ],
   "source": [
    "import numpy as np\n",
    "arr = np.genfromtxt('Day5.txt',delimiter = ',',dtype=int)\n",
    "#Parameters: Immediate mode and position mode\n",
    "#Opcodes: 1, 2, 3, 4, 99\n",
    "inpt = input('ID of System to Test: ')"
   ]
  },
  {
   "cell_type": "code",
   "execution_count": 15,
   "metadata": {},
   "outputs": [],
   "source": [
    "def indexing(listt,index, arr):\n",
    "    inxlist = []\n",
    "    for i, ss in enumerate(listt):\n",
    "        if ss == '0':\n",
    "            inxlist.append(arr[index+i+1])\n",
    "        else:\n",
    "            inxlist.append(index+i+1)\n",
    "    return inxlist\n",
    "\n",
    "def opcodeAct(arr1,index,inxlist,opcode):\n",
    "    if opcode == 1:\n",
    "        arr1[inxlist[2]] = arr1[inxlist[0]] + arr1[inxlist[1]]\n",
    "        index += 4\n",
    "    elif opcode == 2:\n",
    "        arr1[inxlist[2]] = arr1[inxlist[0]] * arr1[inxlist[1]]\n",
    "        index += 4\n",
    "    else:\n",
    "        print(arr1[inxlist[0]])\n",
    "        index += 2\n",
    "    return arr1, index\n",
    "\n",
    "def day5(arr):\n",
    "    arr1 = arr.copy()\n",
    "    index = 0\n",
    "    while arr1[index] != 99:\n",
    "        if arr1[index] == 3:\n",
    "            arr1[arr1[index+1]] = inpt\n",
    "            index += 2\n",
    "        if arr1[index] < 10:\n",
    "            arr1, index = opcodeAct(arr1,index,arr1[index+1:index+4],arr1[index])\n",
    "        else: #5 digit opcode\n",
    "            s = str(arr1[index])\n",
    "            s = s.rjust(5,'0')\n",
    "            s = s[::-1]\n",
    "            inxlist = indexing(s[2:],index,arr1)\n",
    "            arr1, index = opcodeAct(arr1,index,inxlist,int(s[0]))\n",
    "    return None"
   ]
  },
  {
   "cell_type": "code",
   "execution_count": 16,
   "metadata": {},
   "outputs": [
    {
     "name": "stdout",
     "output_type": "stream",
     "text": [
      "0\n",
      "0\n",
      "0\n",
      "0\n",
      "0\n",
      "0\n",
      "0\n",
      "0\n",
      "0\n",
      "15386262\n"
     ]
    }
   ],
   "source": [
    "day5(arr)"
   ]
  },
  {
   "cell_type": "code",
   "execution_count": null,
   "metadata": {},
   "outputs": [],
   "source": []
  }
 ],
 "metadata": {
  "kernelspec": {
   "display_name": "Python 3",
   "language": "python",
   "name": "python3"
  },
  "language_info": {
   "codemirror_mode": {
    "name": "ipython",
    "version": 3
   },
   "file_extension": ".py",
   "mimetype": "text/x-python",
   "name": "python",
   "nbconvert_exporter": "python",
   "pygments_lexer": "ipython3",
   "version": "3.7.4"
  }
 },
 "nbformat": 4,
 "nbformat_minor": 2
}
