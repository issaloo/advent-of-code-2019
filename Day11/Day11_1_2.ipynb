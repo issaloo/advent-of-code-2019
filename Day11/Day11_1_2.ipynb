{
 "cells": [
  {
   "cell_type": "code",
   "execution_count": 5,
   "metadata": {},
   "outputs": [],
   "source": [
    "import numpy as np\n",
    "from queue import Queue\n",
    "arr = np.genfromtxt('Day11.txt',delimiter = ',',dtype=np.int64)"
   ]
  },
  {
   "cell_type": "code",
   "execution_count": 6,
   "metadata": {},
   "outputs": [],
   "source": [
    "def indexing(listt,index):\n",
    "    inxlist = []\n",
    "    global arr1\n",
    "    for i, ss in enumerate(listt):\n",
    "        if ss == '0': #position mode\n",
    "            inxlist.append(arr1[index+i+1])\n",
    "        elif ss =='1': #immediate mode\n",
    "            inxlist.append(index+i+1)\n",
    "        else: #ss == '2'\n",
    "            global base\n",
    "            inxlist.append(arr1[index+i+1]+base)\n",
    "    return inxlist\n",
    "\n",
    "def arrOdict(inxlist):\n",
    "    global arr1\n",
    "    global lgmem\n",
    "    vallist = []\n",
    "    for inx in inxlist:\n",
    "        if inx > (len(arr1)-1):\n",
    "            if inx not in lgmem.keys():\n",
    "                lgmem[inx] = 0\n",
    "                vallist.append(lgmem[inx])\n",
    "            else:\n",
    "                vallist.append(lgmem[inx])\n",
    "        else:\n",
    "            vallist.append(arr1[inx])\n",
    "    return vallist\n",
    "\n",
    "def setequal(inxequal,num):\n",
    "    global arr1\n",
    "    global lgmem\n",
    "    if inxequal > (len(arr1)-1):\n",
    "        lgmem[inxequal] = num\n",
    "    else:\n",
    "        arr1[inxequal] = num\n",
    "    return None\n",
    "\n",
    "def opcodeAct(index,inxlist,opcode):\n",
    "    global arr1\n",
    "    global inpt\n",
    "    global q\n",
    "    vallist = arrOdict(inxlist)\n",
    "    if opcode == 1:\n",
    "        setequal(inxlist[2],vallist[0] + vallist[1])\n",
    "        index += 4\n",
    "    elif opcode == 2:\n",
    "        setequal(inxlist[2],vallist[0] * vallist[1])\n",
    "        index += 4\n",
    "    elif opcode == 4:\n",
    "        q.put(vallist[0])\n",
    "        index += 2\n",
    "    elif opcode == 3:\n",
    "        setequal(inxlist[0],inpt)\n",
    "        index += 2\n",
    "    elif opcode == 5:\n",
    "        if vallist[0]: #If non-zero is true\n",
    "            index = vallist[1]\n",
    "        else:\n",
    "            index += 3\n",
    "    elif opcode == 6:\n",
    "        if not vallist[0]:\n",
    "            index = vallist[1]\n",
    "        else:\n",
    "            index += 3\n",
    "    elif opcode == 7:\n",
    "        if vallist[0] < vallist[1]:\n",
    "            setequal(inxlist[2],1)\n",
    "        else:\n",
    "            setequal(inxlist[2],0)\n",
    "        index += 4\n",
    "    elif opcode == 8:\n",
    "        if vallist[0] == vallist[1]:\n",
    "            setequal(inxlist[2],1)\n",
    "        else:\n",
    "            setequal(inxlist[2],0)\n",
    "        index += 4\n",
    "    elif opcode == 9:\n",
    "        global base\n",
    "        base += vallist[0]\n",
    "        index += 2\n",
    "    return index\n",
    "\n",
    "def day11(arr):\n",
    "    global arr1\n",
    "    global inpt\n",
    "    global q\n",
    "    arr1 = arr.copy()\n",
    "    q = Queue()\n",
    "    mapp = {}\n",
    "    currpt = [0,0]\n",
    "    currdir = 1 #up/right is 1, down/left is -1\n",
    "    mapp[tuple(currpt)] = 0\n",
    "    count = 0\n",
    "    index = 0\n",
    "    while arr1[index] != 99:\n",
    "        if arr1[index] in [1,2,7,8]:\n",
    "            index = opcodeAct(index,arr1[index+1:index+4],arr1[index])\n",
    "        elif arr1[index] in [5,6]:\n",
    "            index = opcodeAct(index,arr1[index+1:index+3],arr1[index])\n",
    "        elif arr1[index] in [3,4,9]:\n",
    "            index = opcodeAct(index,arr1[index+1:index+2],arr1[index])\n",
    "        else: #5 digit opcode\n",
    "            s = str(arr1[index])\n",
    "            s = s.rjust(5,'0')\n",
    "            s = s[::-1]\n",
    "            if int(s[0]) in [1,2,7,8]:\n",
    "                inxlist = indexing(s[2:],index)\n",
    "            elif int(s[0]) in [5,6]:\n",
    "                inxlist = indexing(s[2:4],index)\n",
    "            elif int(s[0]) in [3,4,9]:\n",
    "                inxlist = indexing(s[2:3],index)\n",
    "            index = opcodeAct(index,inxlist,int(s[0]))\n",
    "        if len(q.queue) == 2:\n",
    "            color = q.get()\n",
    "            direct = q.get() #left is 0, right is 1 \n",
    "            if direct == 0: #left equal to -1\n",
    "                direct = -1\n",
    "            mapp[tuple(currpt)] = color #paint current panel first\n",
    "            painted = 1\n",
    "            if count%2: #if remainder is 1, left/right\n",
    "                if currdir == 1: #right\n",
    "                    currpt[1] -= direct #go up or down\n",
    "                    currdir = -direct #1 if up, -1 if down, left is up, right is down\n",
    "                else: #left\n",
    "                    currpt[1] += direct\n",
    "                    currdir = direct\n",
    "            else: #if remainder is 0, currently up/down\n",
    "                if currdir == 1: #up\n",
    "                    currpt[0] += direct #go left or right\n",
    "                    currdir = direct #1 is right, -1 is left\n",
    "                else: #down\n",
    "                    currpt[0] -= direct\n",
    "                    currdir = -direct\n",
    "            if tuple(currpt) not in mapp:\n",
    "                mapp[tuple(currpt)] = 0\n",
    "                painted = 0\n",
    "            inpt = mapp[tuple(currpt)]\n",
    "            count += 1\n",
    "    return mapp,painted"
   ]
  },
  {
   "cell_type": "code",
   "execution_count": 7,
   "metadata": {},
   "outputs": [],
   "source": [
    "base = 0\n",
    "lgmem = {}\n",
    "inpt = 0\n",
    "mapp,painted = day11(arr)"
   ]
  },
  {
   "cell_type": "code",
   "execution_count": 8,
   "metadata": {},
   "outputs": [
    {
     "name": "stdout",
     "output_type": "stream",
     "text": [
      "1863\n"
     ]
    }
   ],
   "source": [
    "if painted == 1:\n",
    "    print(len(mapp))\n",
    "else:\n",
    "    print(len(mapp)-1)"
   ]
  },
  {
   "cell_type": "code",
   "execution_count": 97,
   "metadata": {},
   "outputs": [
    {
     "data": {
      "text/plain": [
       "250"
      ]
     },
     "execution_count": 97,
     "metadata": {},
     "output_type": "execute_result"
    }
   ],
   "source": [
    "#Part 2\n",
    "base = 0\n",
    "lgmem = {}\n",
    "inpt = 1\n",
    "mapp,painted = day11(arr)"
   ]
  },
  {
   "cell_type": "code",
   "execution_count": 98,
   "metadata": {},
   "outputs": [],
   "source": [
    "coord = np.array([list(item) for item in mapp.keys()])\n",
    "mx = np.max(abs(coord[:]))\n",
    "coord += mx\n",
    "paper = np.zeros(shape=(2*(mx+1),2*(mx+1)))\n",
    "painting = np.array([*mapp.values()])\n",
    "for xy,paint in zip(coord,painting):\n",
    "    paper[xy[0],xy[1]] = paint"
   ]
  },
  {
   "cell_type": "code",
   "execution_count": 100,
   "metadata": {},
   "outputs": [],
   "source": [
    "from PIL import Image\n",
    "img = Image.fromarray(paper.astype('uint8')*255)\n",
    "img.show()"
   ]
  }
 ],
 "metadata": {
  "kernelspec": {
   "display_name": "Python 3",
   "language": "python",
   "name": "python3"
  },
  "language_info": {
   "codemirror_mode": {
    "name": "ipython",
    "version": 3
   },
   "file_extension": ".py",
   "mimetype": "text/x-python",
   "name": "python",
   "nbconvert_exporter": "python",
   "pygments_lexer": "ipython3",
   "version": "3.6.8"
  }
 },
 "nbformat": 4,
 "nbformat_minor": 2
}
