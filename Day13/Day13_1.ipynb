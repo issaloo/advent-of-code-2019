{
 "cells": [
  {
   "cell_type": "code",
   "execution_count": 1,
   "metadata": {},
   "outputs": [],
   "source": [
    "import numpy as np\n",
    "arr = np.genfromtxt('Day13.txt',delimiter = ',',dtype=np.int64)"
   ]
  },
  {
   "cell_type": "code",
   "execution_count": 45,
   "metadata": {},
   "outputs": [],
   "source": [
    "def indexing(listt,index):\n",
    "    inxlist = []\n",
    "    global arr1\n",
    "    for i, ss in enumerate(listt):\n",
    "        if ss == '0': #position mode\n",
    "            inxlist.append(arr1[index+i+1])\n",
    "        elif ss =='1': #immediate mode\n",
    "            inxlist.append(index+i+1)\n",
    "        else: #ss == '2'\n",
    "            global base\n",
    "            inxlist.append(arr1[index+i+1]+base)\n",
    "    return inxlist\n",
    "\n",
    "def arrOdict(inxlist):\n",
    "    global arr1\n",
    "    global lgmem\n",
    "    vallist = []\n",
    "    for inx in inxlist:\n",
    "        if inx > (len(arr1)-1):\n",
    "            if inx not in lgmem.keys():\n",
    "                lgmem[inx] = 0\n",
    "                vallist.append(lgmem[inx])\n",
    "            else:\n",
    "                vallist.append(lgmem[inx])\n",
    "        else:\n",
    "            vallist.append(arr1[inx])\n",
    "    return vallist\n",
    "\n",
    "def setequal(inxequal,num):\n",
    "    global arr1\n",
    "    global lgmem\n",
    "    if inxequal > (len(arr1)-1):\n",
    "        lgmem[inxequal] = num\n",
    "    else:\n",
    "        arr1[inxequal] = num\n",
    "    return None\n",
    "\n",
    "def opcodeAct(index,inxlist,opcode):\n",
    "    global arr1\n",
    "    global inpt\n",
    "    vallist = arrOdict(inxlist)\n",
    "    if opcode == 1:\n",
    "        setequal(inxlist[2],vallist[0] + vallist[1])\n",
    "        index += 4\n",
    "    elif opcode == 2:\n",
    "        setequal(inxlist[2],vallist[0] * vallist[1])\n",
    "        index += 4\n",
    "    elif opcode == 4:\n",
    "        global carepack\n",
    "        carepack.append(vallist[0])\n",
    "        index += 2\n",
    "    elif opcode == 3:\n",
    "        setequal(inxlist[0],inpt)\n",
    "        index += 2\n",
    "    elif opcode == 5:\n",
    "        if vallist[0]: #If non-zero is true\n",
    "            index = vallist[1]\n",
    "        else:\n",
    "            index += 3\n",
    "    elif opcode == 6:\n",
    "        if not vallist[0]:\n",
    "            index = vallist[1]\n",
    "        else:\n",
    "            index += 3\n",
    "    elif opcode == 7:\n",
    "        if vallist[0] < vallist[1]:\n",
    "            setequal(inxlist[2],1)\n",
    "        else:\n",
    "            setequal(inxlist[2],0)\n",
    "        index += 4\n",
    "    elif opcode == 8:\n",
    "        if vallist[0] == vallist[1]:\n",
    "            setequal(inxlist[2],1)\n",
    "        else:\n",
    "            setequal(inxlist[2],0)\n",
    "        index += 4\n",
    "    elif opcode == 9:\n",
    "        global base\n",
    "        base += vallist[0]\n",
    "        index += 2\n",
    "    return index\n",
    "\n",
    "def day9(arr):\n",
    "    global arr1\n",
    "    global inpt\n",
    "    arr1 = arr.copy()\n",
    "    index = 0\n",
    "    while arr1[index] != 99:\n",
    "        if arr1[index] in [1,2,7,8]:\n",
    "            index = opcodeAct(index,arr1[index+1:index+4],arr1[index])\n",
    "        elif arr1[index] in [5,6]:\n",
    "            index = opcodeAct(index,arr1[index+1:index+3],arr1[index])\n",
    "        elif arr1[index] in [3,4,9]:\n",
    "            index = opcodeAct(index,arr1[index+1:index+2],arr1[index])\n",
    "        else: #5 digit opcode\n",
    "            s = str(arr1[index])\n",
    "            s = s.rjust(5,'0')\n",
    "            s = s[::-1]\n",
    "            if int(s[0]) in [1,2,7,8]:\n",
    "                inxlist = indexing(s[2:],index)\n",
    "            elif int(s[0]) in [5,6]:\n",
    "                inxlist = indexing(s[2:4],index)\n",
    "            elif int(s[0]) in [3,4,9]:\n",
    "                inxlist = indexing(s[2:3],index)\n",
    "            index = opcodeAct(index,inxlist,int(s[0]))\n",
    "    return None"
   ]
  },
  {
   "cell_type": "code",
   "execution_count": 46,
   "metadata": {},
   "outputs": [],
   "source": [
    "base = 0\n",
    "lgmem = {}\n",
    "inpt = 0\n",
    "carepack = []\n",
    "day9(arr)"
   ]
  },
  {
   "cell_type": "code",
   "execution_count": 47,
   "metadata": {},
   "outputs": [],
   "source": [
    "carepackn = np.array(carepack).reshape((len(carepack)//3,3))"
   ]
  },
  {
   "cell_type": "code",
   "execution_count": 48,
   "metadata": {},
   "outputs": [
    {
     "data": {
      "text/plain": [
       "324"
      ]
     },
     "execution_count": 48,
     "metadata": {},
     "output_type": "execute_result"
    }
   ],
   "source": [
    "np.sum(carepackn[:,2] == 2)"
   ]
  },
  {
   "cell_type": "code",
   "execution_count": null,
   "metadata": {},
   "outputs": [],
   "source": []
  }
 ],
 "metadata": {
  "kernelspec": {
   "display_name": "Python 3",
   "language": "python",
   "name": "python3"
  },
  "language_info": {
   "codemirror_mode": {
    "name": "ipython",
    "version": 3
   },
   "file_extension": ".py",
   "mimetype": "text/x-python",
   "name": "python",
   "nbconvert_exporter": "python",
   "pygments_lexer": "ipython3",
   "version": "3.7.4"
  }
 },
 "nbformat": 4,
 "nbformat_minor": 2
}
