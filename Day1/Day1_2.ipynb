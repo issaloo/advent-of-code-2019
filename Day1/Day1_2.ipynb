{
 "cells": [
  {
   "cell_type": "code",
   "execution_count": 1,
   "metadata": {},
   "outputs": [],
   "source": [
    "import numpy as np"
   ]
  },
  {
   "cell_type": "code",
   "execution_count": 14,
   "metadata": {},
   "outputs": [],
   "source": [
    "arr = np.genfromtxt('Day1.txt',delimiter='/n')"
   ]
  },
  {
   "cell_type": "code",
   "execution_count": 60,
   "metadata": {},
   "outputs": [
    {
     "name": "stdout",
     "output_type": "stream",
     "text": [
      "[35466. 46836. 47579. 40253. 26553. 18076. 42461. 24067. 23597. 26493.\n",
      " 34662. 43192. 44261. 31709. 40396. 43139. 21618. 41075. 44266. 29303.\n",
      " 37129. 42206. 37679. 20566. 21802. 48604. 25327. 24903. 38377. 28441.\n",
      " 28942. 28685. 28486. 46577. 34455. 33978. 17578. 25884. 37579. 34367.\n",
      " 35431. 47236. 24846. 18489. 35580. 46742. 20140. 48620. 48268. 31391.\n",
      " 33866. 25919. 46428. 34746. 49502. 42274. 21539. 46350. 28611. 28876.\n",
      " 20730. 45784. 25568. 29280. 47235. 38024. 23877. 31963. 34838. 20641.\n",
      " 24064. 47594. 45910. 41143. 30622. 42551. 37057. 17180. 27815. 30396.\n",
      " 39264. 28159. 25170. 27938. 32467. 29725. 23807. 24250. 24356. 36650.\n",
      " 16865. 24855. 21850. 43253. 26873. 42329. 24491. 23784. 34427. 28554.]\n"
     ]
    }
   ],
   "source": [
    "arr1 = np.floor(arr/3)-2\n",
    "arr11 = arr1.copy()"
   ]
  },
  {
   "cell_type": "code",
   "execution_count": 66,
   "metadata": {},
   "outputs": [
    {
     "data": {
      "text/plain": [
       "4951265.0"
      ]
     },
     "execution_count": 66,
     "metadata": {},
     "output_type": "execute_result"
    }
   ],
   "source": [
    "while np.count_nonzero(arr11) != 0: #Or do a for loop for each individual module\n",
    "    arr11 = np.floor(arr11/3)-2\n",
    "    arr11[arr11<0] = 0\n",
    "    arr1 += arr11\n",
    "ans = np.sum(arr1)\n",
    "ans"
   ]
  }
 ],
 "metadata": {
  "kernelspec": {
   "display_name": "Python 3",
   "language": "python",
   "name": "python3"
  },
  "language_info": {
   "codemirror_mode": {
    "name": "ipython",
    "version": 3
   },
   "file_extension": ".py",
   "mimetype": "text/x-python",
   "name": "python",
   "nbconvert_exporter": "python",
   "pygments_lexer": "ipython3",
   "version": "3.6.8"
  }
 },
 "nbformat": 4,
 "nbformat_minor": 2
}
