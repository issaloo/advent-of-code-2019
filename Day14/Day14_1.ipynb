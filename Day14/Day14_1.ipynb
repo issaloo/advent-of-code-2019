{
 "cells": [
  {
   "cell_type": "code",
   "execution_count": 204,
   "metadata": {},
   "outputs": [],
   "source": [
    "import numpy as np\n",
    "import re\n",
    "rest = {}\n",
    "dirORE = []\n",
    "unique = []\n",
    "with open('Day14.txt') as f:\n",
    "    for line in f.readlines():\n",
    "        line1 = re.split(r'[^a-zA-Z]',line)\n",
    "        key_raw = [alph for alph in line1 if alph.isalpha()]\n",
    "        unique.extend(key_raw)\n",
    "        key = tuple(key_raw)\n",
    "        val = np.array([int(num) for num in re.findall(r'\\d+', line)])\n",
    "        if key_raw[-1] == 'FUEL':\n",
    "            fuel_val = val\n",
    "            fuel_list = key_raw\n",
    "        else:\n",
    "            if key_raw[0] == 'ORE':\n",
    "                dirORE.append(key_raw[1])\n",
    "            rest[key] = val"
   ]
  },
  {
   "cell_type": "code",
   "execution_count": 205,
   "metadata": {},
   "outputs": [],
   "source": [
    "unique = np.unique(unique)\n",
    "supply = dict.fromkeys(unique[unique!='ORE'],0)"
   ]
  },
  {
   "cell_type": "code",
   "execution_count": 206,
   "metadata": {},
   "outputs": [],
   "source": [
    "ore = 0\n",
    "def counter(reclist,val):\n",
    "    global ore\n",
    "    global rest\n",
    "    global dirORE\n",
    "    for i, key in enumerate(reclist[:-1]):\n",
    "        dem = val[i]\n",
    "        sup = supply[key]\n",
    "        if sup < dem: #if supply less than demand\n",
    "            reclist1_t = [k for k in rest.keys() if k[-1]==key][0]\n",
    "            if key in dirORE: #If it is direct output of ORE\n",
    "                out = rest[reclist1_t] #Ore and Direct output\n",
    "                mult = int(np.ceil((dem-sup)/out[1])) #Calculate multiplier\n",
    "                supply[key] += (mult*out[1])-dem #Add to supply\n",
    "                ore += mult*out[0] #Add to ore counter\n",
    "            else: #Not direct output of ORE, keep going deeper\n",
    "                reclist1 = list(reclist1_t)\n",
    "                out = rest[reclist1_t]\n",
    "                mult = int(np.ceil((dem-sup)/out[-1]))\n",
    "                supply[key] += (mult*out[-1])-dem\n",
    "                val1 = mult*out[:-1]\n",
    "                counter(reclist1,val1)\n",
    "        else: #if supply is more than demand, just subtract\n",
    "            supply[key] -= dem\n",
    "    return None"
   ]
  },
  {
   "cell_type": "code",
   "execution_count": 207,
   "metadata": {},
   "outputs": [
    {
     "data": {
      "text/plain": [
       "1582325"
      ]
     },
     "execution_count": 207,
     "metadata": {},
     "output_type": "execute_result"
    }
   ],
   "source": [
    "counter(fuel_list,fuel_val)\n",
    "ore"
   ]
  }
 ],
 "metadata": {
  "kernelspec": {
   "display_name": "Python 3",
   "language": "python",
   "name": "python3"
  },
  "language_info": {
   "codemirror_mode": {
    "name": "ipython",
    "version": 3
   },
   "file_extension": ".py",
   "mimetype": "text/x-python",
   "name": "python",
   "nbconvert_exporter": "python",
   "pygments_lexer": "ipython3",
   "version": "3.7.4"
  }
 },
 "nbformat": 4,
 "nbformat_minor": 2
}
