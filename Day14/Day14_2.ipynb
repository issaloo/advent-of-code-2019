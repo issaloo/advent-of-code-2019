{
 "cells": [
  {
   "cell_type": "code",
   "execution_count": 177,
   "metadata": {},
   "outputs": [],
   "source": [
    "import numpy as np\n",
    "import re\n",
    "rest = {}\n",
    "dirORE = []\n",
    "unique = []\n",
    "with open('Day14.txt') as f:\n",
    "    for line in f.readlines():\n",
    "        line1 = re.split(r'[^a-zA-Z]',line)\n",
    "        key_raw = [alph for alph in line1 if alph.isalpha()]\n",
    "        unique.extend(key_raw)\n",
    "        key = tuple(key_raw)\n",
    "        val = np.array([int(num) for num in re.findall(r'\\d+', line)],dtype=np.int64)\n",
    "        if key_raw[0] == 'ORE':\n",
    "            dirORE.append(key_raw[1])\n",
    "        rest[key] = val\n",
    "unique = np.unique(unique)\n",
    "supply = dict.fromkeys(unique[unique!='ORE'],0)"
   ]
  },
  {
   "cell_type": "code",
   "execution_count": 178,
   "metadata": {},
   "outputs": [],
   "source": [
    "def counter(reclist,val):\n",
    "    global ore\n",
    "    global rest\n",
    "    global dirORE\n",
    "    global supply1\n",
    "    for i, key in enumerate(reclist[:-1]):\n",
    "        dem = val[i]\n",
    "        sup = supply1[key]\n",
    "        if sup < dem: #if supply less than demand\n",
    "            reclist1_t = [k for k in rest.keys() if k[-1]==key][0]\n",
    "            out = rest[reclist1_t]\n",
    "            mult = int(np.ceil((dem-sup)/out[-1]))\n",
    "            supply1[key] += (mult*out[-1])-dem\n",
    "            if key in dirORE: #If it is direct output of ORE\n",
    "                ore += mult*out[0]\n",
    "            else: #Not direct output of ORE, keep going deeper\n",
    "                reclist1 = list(reclist1_t)\n",
    "                val1 = mult*out[:-1]\n",
    "                counter(reclist1,val1)\n",
    "        else: #if supply is more than demand, just subtract\n",
    "            supply1[key] -= dem\n",
    "    return None\n",
    "def fuelcalc(value):\n",
    "    global supply1\n",
    "    global ore\n",
    "    supply1 = supply.copy()\n",
    "    ore = 0\n",
    "    counter(['FUEL',' '],np.array([value],dtype=np.int64))\n",
    "    return ore"
   ]
  },
  {
   "cell_type": "code",
   "execution_count": 179,
   "metadata": {},
   "outputs": [],
   "source": [
    "def binarySearch(l,u):\n",
    "    global supply1\n",
    "    ore_supply = np.array(1000000000000,dtype=np.int64)\n",
    "    while (u != (l+1)): #need to change this\n",
    "        mid = l + int((u-l)/2) #int rounds down\n",
    "        mid_fuelcalc = fuelcalc(mid)\n",
    "        mid_diff = ore_supply - mid_fuelcalc\n",
    "        if mid_diff == 0:\n",
    "            return mid\n",
    "        elif mid_diff < 0: #Too high, go to lower bound mid\n",
    "            u = mid #upper bound is now mid\n",
    "        else: #if mid_diff is > 0\n",
    "            up_fuelcalc = fuelcalc(u)\n",
    "            u_diff = ore_supply - up_fuelcalc\n",
    "            lo_fuelcalc = fuelcalc(l)\n",
    "            l_diff = ore_supply - lo_fuelcalc\n",
    "            if u_diff < l_diff: #if upper bound is lower, go to higher bound area\n",
    "                l = mid\n",
    "            else: #u_diff >= l_diff\n",
    "                u = mid\n",
    "    return l"
   ]
  },
  {
   "cell_type": "code",
   "execution_count": 180,
   "metadata": {},
   "outputs": [
    {
     "data": {
      "text/plain": [
       "2267486"
      ]
     },
     "execution_count": 180,
     "metadata": {},
     "output_type": "execute_result"
    }
   ],
   "source": [
    "binarySearch(l,u)"
   ]
  }
 ],
 "metadata": {
  "kernelspec": {
   "display_name": "Python 3",
   "language": "python",
   "name": "python3"
  },
  "language_info": {
   "codemirror_mode": {
    "name": "ipython",
    "version": 3
   },
   "file_extension": ".py",
   "mimetype": "text/x-python",
   "name": "python",
   "nbconvert_exporter": "python",
   "pygments_lexer": "ipython3",
   "version": "3.7.4"
  }
 },
 "nbformat": 4,
 "nbformat_minor": 2
}
