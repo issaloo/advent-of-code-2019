{
 "cells": [
  {
   "cell_type": "code",
   "execution_count": 111,
   "metadata": {},
   "outputs": [],
   "source": [
    "import numpy as np\n",
    "import re\n",
    "arr = []\n",
    "with open('Day12.txt') as f:\n",
    "    for line in f.readlines():\n",
    "        arr_sub = [int(num) for num in re.findall(r'[-]?\\d+', line)]\n",
    "        arr.append(arr_sub)\n",
    "arr = np.array(arr)"
   ]
  },
  {
   "cell_type": "code",
   "execution_count": 112,
   "metadata": {},
   "outputs": [],
   "source": [
    "def motion_step(arr):\n",
    "    velz = np.zeros(shape=(arr.shape[0],1),dtype=np.int64)\n",
    "    nsteps = np.zeros(3,dtype=np.int64)\n",
    "    for i in range(3):\n",
    "        pos = arr[:,[i]].copy()\n",
    "        vel = np.zeros(shape=(arr.shape[0],1),dtype=np.int64)\n",
    "        nsteps[i] += 1\n",
    "        duplicate = np.tile(pos,(4)).transpose()\n",
    "        larger = np.sum(duplicate > pos,axis=0)\n",
    "        smaller = np.sum(duplicate < pos,axis=0)\n",
    "        vel[:,0] += smaller - larger\n",
    "        pos += vel\n",
    "        while (not np.array_equal(pos,arr[:,[i]])) & (not np.array_equal(vel,velz)):\n",
    "            nsteps[i] += 1\n",
    "            duplicate = np.tile(pos,(4)).transpose()\n",
    "            larger = np.sum(duplicate > pos,axis=0)\n",
    "            smaller = np.sum(duplicate < pos,axis=0)\n",
    "            vel[:,0] += (smaller - larger)\n",
    "            pos += vel\n",
    "    return nsteps"
   ]
  },
  {
   "cell_type": "code",
   "execution_count": 115,
   "metadata": {
    "scrolled": true
   },
   "outputs": [
    {
     "data": {
      "text/plain": [
       "484244804958744"
      ]
     },
     "execution_count": 115,
     "metadata": {},
     "output_type": "execute_result"
    }
   ],
   "source": [
    "nsteps = motion_step(arr)\n",
    "a = np.lcm.reduce(nsteps,dtype=np.int64)\n",
    "a*2"
   ]
  }
 ],
 "metadata": {
  "kernelspec": {
   "display_name": "Python 3",
   "language": "python",
   "name": "python3"
  },
  "language_info": {
   "codemirror_mode": {
    "name": "ipython",
    "version": 3
   },
   "file_extension": ".py",
   "mimetype": "text/x-python",
   "name": "python",
   "nbconvert_exporter": "python",
   "pygments_lexer": "ipython3",
   "version": "3.7.4"
  }
 },
 "nbformat": 4,
 "nbformat_minor": 2
}
