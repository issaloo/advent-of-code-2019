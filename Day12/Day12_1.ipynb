{
 "cells": [
  {
   "cell_type": "code",
   "execution_count": 6,
   "metadata": {},
   "outputs": [],
   "source": [
    "import numpy as np\n",
    "import re\n",
    "arr = []\n",
    "with open('Day12.txt') as f:\n",
    "    for line in f.readlines():\n",
    "        arr_sub = [int(num) for num in re.findall(r'[-]?\\d+', line)]\n",
    "        arr.append(arr_sub)\n",
    "arr = np.array(arr)"
   ]
  },
  {
   "cell_type": "code",
   "execution_count": 7,
   "metadata": {},
   "outputs": [],
   "source": [
    "def motion_step(nsteps,pos):\n",
    "    vel = np.zeros(shape=(arr.shape[0],3),dtype=np.int32)\n",
    "    while nsteps > 0:\n",
    "        nsteps -= 1\n",
    "        for i in range(3):\n",
    "            duplicate = np.array([pos[:,i],]*pos.shape[0])\n",
    "            larger = np.sum(duplicate > pos[:,[i]],axis=0) #Larger than the value\n",
    "            smaller = np.sum(duplicate < pos[:,[i]],axis=0)\n",
    "            vel[:,i] += (smaller - larger)\n",
    "        pos += vel\n",
    "    pot = np.sum(abs(pos),axis=1)\n",
    "    kin = np.sum(abs(vel),axis=1)\n",
    "    tot = pot*kin\n",
    "    tot2 = np.sum(tot)\n",
    "    return tot2"
   ]
  },
  {
   "cell_type": "code",
   "execution_count": 8,
   "metadata": {
    "scrolled": true
   },
   "outputs": [
    {
     "data": {
      "text/plain": [
       "10944"
      ]
     },
     "execution_count": 8,
     "metadata": {},
     "output_type": "execute_result"
    }
   ],
   "source": [
    "motion_step(1000,arr)"
   ]
  },
  {
   "cell_type": "code",
   "execution_count": null,
   "metadata": {},
   "outputs": [],
   "source": []
  }
 ],
 "metadata": {
  "kernelspec": {
   "display_name": "Python 3",
   "language": "python",
   "name": "python3"
  },
  "language_info": {
   "codemirror_mode": {
    "name": "ipython",
    "version": 3
   },
   "file_extension": ".py",
   "mimetype": "text/x-python",
   "name": "python",
   "nbconvert_exporter": "python",
   "pygments_lexer": "ipython3",
   "version": "3.7.4"
  }
 },
 "nbformat": 4,
 "nbformat_minor": 2
}
