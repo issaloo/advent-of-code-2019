{
 "cells": [
  {
   "cell_type": "code",
   "execution_count": 71,
   "metadata": {},
   "outputs": [],
   "source": [
    "import numpy as np\n",
    "from PIL import Image\n",
    "with open('Day8.txt') as f:\n",
    "    arr = f.readline()\n",
    "    arr = [int(num) for num in arr]\n",
    "imgshape = [25,6]\n",
    "imglen = imgshape[0]*imgshape[1]\n",
    "img = np.array(arr)\n",
    "wid = int(len(arr)/imglen)\n",
    "img = img.reshape(wid,imglen)"
   ]
  },
  {
   "cell_type": "code",
   "execution_count": 72,
   "metadata": {},
   "outputs": [],
   "source": [
    "decImg = img[list(np.argmax(img !=2,axis=0)),list(np.arange(0,150))].reshape(6,25).astype('uint8')*255"
   ]
  },
  {
   "cell_type": "code",
   "execution_count": 73,
   "metadata": {},
   "outputs": [],
   "source": [
    "imgg = Image.fromarray(decImg,'L')\n",
    "imgg.show()"
   ]
  }
 ],
 "metadata": {
  "kernelspec": {
   "display_name": "Python 3",
   "language": "python",
   "name": "python3"
  },
  "language_info": {
   "codemirror_mode": {
    "name": "ipython",
    "version": 3
   },
   "file_extension": ".py",
   "mimetype": "text/x-python",
   "name": "python",
   "nbconvert_exporter": "python",
   "pygments_lexer": "ipython3",
   "version": "3.6.8"
  }
 },
 "nbformat": 4,
 "nbformat_minor": 2
}
